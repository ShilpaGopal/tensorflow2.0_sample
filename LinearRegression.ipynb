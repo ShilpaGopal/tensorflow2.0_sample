{
 "cells": [
  {
   "cell_type": "code",
   "execution_count": 1,
   "metadata": {},
   "outputs": [],
   "source": [
    "import numpy as np\n",
    "import pandas as pd\n",
    "\n",
    "import matplotlib.pyplot as plt\n",
    "import tensorflow as tf"
   ]
  },
  {
   "cell_type": "code",
   "execution_count": 2,
   "metadata": {},
   "outputs": [],
   "source": [
    "W_true = 2\n",
    "b_true = 0.5"
   ]
  },
  {
   "cell_type": "code",
   "execution_count": 3,
   "metadata": {},
   "outputs": [],
   "source": [
    "x = np.linspace(0, 3, 130)\n",
    "y = W_true * x + b_true + np.random.randn(*x.shape) * 0.5"
   ]
  },
  {
   "cell_type": "code",
   "execution_count": 4,
   "metadata": {},
   "outputs": [
    {
     "data": {
      "image/png": "[encoded data removed]",
      "text/plain": [
       "<Figure size 720x576 with 1 Axes>"
      ]
     },
     "metadata": {
      "needs_background": "light"
     },
     "output_type": "display_data"
    }
   ],
   "source": [
    "plt.figure(figsize=(10, 8))\n",
    "\n",
    "plt.scatter(x,y)\n",
    "plt.show()"
   ]
  },
  {
   "cell_type": "code",
   "execution_count": 5,
   "metadata": {},
   "outputs": [],
   "source": [
    "class LinearModel:\n",
    "    \n",
    "    def __init__(self):\n",
    "        self.weight = tf.Variable(np.random.randn(), name ='w')\n",
    "        self.bias = tf.Variable(np.random.randn(), name = 'b')\n",
    "        \n",
    "    def __call__(self, x):\n",
    "        return self.weight * x + self.bias"
   ]
  },
  {
   "cell_type": "code",
   "execution_count": 6,
   "metadata": {},
   "outputs": [],
   "source": [
    "def loss(y, y_pred):\n",
    "    return tf.reduce_mean(tf.square(y-y_pred))"
   ]
  },
  {
   "cell_type": "code",
   "execution_count": 7,
   "metadata": {},
   "outputs": [],
   "source": [
    "def train(linear_model, x, y, lr= 0.01):\n",
    "    with tf.GradientTape() as tape:\n",
    "        y_pred = linear_model(x)\n",
    "        current_loss = loss(y, y_pred)\n",
    "        \n",
    "    d_weight, d_bias = tape.gradient(current_loss,\n",
    "                                    [linear_model.weight, linear_model.bias])\n",
    "    \n",
    "    linear_model.weight.assign_sub(lr * d_weight)\n",
    "    linear_model.bias.assign_sub(lr * d_bias)\n",
    "    "
   ]
  },
  {
   "cell_type": "code",
   "execution_count": 8,
   "metadata": {},
   "outputs": [],
   "source": [
    "linear_model = LinearModel()\n",
    "weights, biases = [], []\n",
    "epochs = 100\n",
    "lr = 0.15"
   ]
  },
  {
   "cell_type": "code",
   "execution_count": 9,
   "metadata": {},
   "outputs": [
    {
     "name": "stdout",
     "output_type": "stream",
     "text": [
      "Epoch count 0: Loss value: 13.178321838378906\n",
      "Epoch count 1: Loss value: 0.5207944512367249\n",
      "Epoch count 2: Loss value: 0.2599310278892517\n",
      "Epoch count 3: Loss value: 0.25451353192329407\n",
      "Epoch count 4: Loss value: 0.2543644607067108\n",
      "Epoch count 5: Loss value: 0.2543283998966217\n",
      "Epoch count 6: Loss value: 0.25429844856262207\n",
      "Epoch count 7: Loss value: 0.2542720139026642\n",
      "Epoch count 8: Loss value: 0.2542487382888794\n",
      "Epoch count 9: Loss value: 0.25422805547714233\n",
      "Epoch count 10: Loss value: 0.25420981645584106\n",
      "Epoch count 11: Loss value: 0.2541937232017517\n",
      "Epoch count 12: Loss value: 0.2541795074939728\n",
      "Epoch count 13: Loss value: 0.25416696071624756\n",
      "Epoch count 14: Loss value: 0.25415584444999695\n",
      "Epoch count 15: Loss value: 0.2541459798812866\n",
      "Epoch count 16: Loss value: 0.2541373074054718\n",
      "Epoch count 17: Loss value: 0.2541296184062958\n",
      "Epoch count 18: Loss value: 0.25412285327911377\n",
      "Epoch count 19: Loss value: 0.2541169226169586\n",
      "Epoch count 20: Loss value: 0.25411155819892883\n",
      "Epoch count 21: Loss value: 0.25410690903663635\n",
      "Epoch count 22: Loss value: 0.2541027367115021\n",
      "Epoch count 23: Loss value: 0.25409913063049316\n",
      "Epoch count 24: Loss value: 0.2540959417819977\n",
      "Epoch count 25: Loss value: 0.2540930211544037\n",
      "Epoch count 26: Loss value: 0.25409048795700073\n",
      "Epoch count 27: Loss value: 0.25408831238746643\n",
      "Epoch count 28: Loss value: 0.25408631563186646\n",
      "Epoch count 29: Loss value: 0.25408458709716797\n",
      "Epoch count 30: Loss value: 0.2540830373764038\n",
      "Epoch count 31: Loss value: 0.25408169627189636\n",
      "Epoch count 32: Loss value: 0.25408050417900085\n",
      "Epoch count 33: Loss value: 0.2540794014930725\n",
      "Epoch count 34: Loss value: 0.2540784776210785\n",
      "Epoch count 35: Loss value: 0.25407764315605164\n",
      "Epoch count 36: Loss value: 0.25407692790031433\n",
      "Epoch count 37: Loss value: 0.2540762424468994\n",
      "Epoch count 38: Loss value: 0.25407564640045166\n",
      "Epoch count 39: Loss value: 0.25407519936561584\n",
      "Epoch count 40: Loss value: 0.2540747821331024\n",
      "Epoch count 41: Loss value: 0.254074364900589\n",
      "Epoch count 42: Loss value: 0.2540740370750427\n",
      "Epoch count 43: Loss value: 0.25407370924949646\n",
      "Epoch count 44: Loss value: 0.2540733814239502\n",
      "Epoch count 45: Loss value: 0.2540731728076935\n",
      "Epoch count 46: Loss value: 0.25407299399375916\n",
      "Epoch count 47: Loss value: 0.25407278537750244\n",
      "Epoch count 48: Loss value: 0.2540726363658905\n",
      "Epoch count 49: Loss value: 0.25407251715660095\n",
      "Epoch count 50: Loss value: 0.254072368144989\n",
      "Epoch count 51: Loss value: 0.2540722191333771\n",
      "Epoch count 52: Loss value: 0.2540721595287323\n",
      "Epoch count 53: Loss value: 0.25407201051712036\n",
      "Epoch count 54: Loss value: 0.2540719509124756\n",
      "Epoch count 55: Loss value: 0.2540718615055084\n",
      "Epoch count 56: Loss value: 0.25407183170318604\n",
      "Epoch count 57: Loss value: 0.2540717124938965\n",
      "Epoch count 58: Loss value: 0.25407174229621887\n",
      "Epoch count 59: Loss value: 0.2540716528892517\n",
      "Epoch count 60: Loss value: 0.2540716528892517\n",
      "Epoch count 61: Loss value: 0.2540716230869293\n",
      "Epoch count 62: Loss value: 0.25407153367996216\n",
      "Epoch count 63: Loss value: 0.25407153367996216\n",
      "Epoch count 64: Loss value: 0.25407150387763977\n",
      "Epoch count 65: Loss value: 0.25407150387763977\n",
      "Epoch count 66: Loss value: 0.2540714740753174\n",
      "Epoch count 67: Loss value: 0.2540714740753174\n",
      "Epoch count 68: Loss value: 0.2540714740753174\n",
      "Epoch count 69: Loss value: 0.2540714740753174\n",
      "Epoch count 70: Loss value: 0.2540714144706726\n",
      "Epoch count 71: Loss value: 0.2540714144706726\n",
      "Epoch count 72: Loss value: 0.2540713846683502\n",
      "Epoch count 73: Loss value: 0.2540714144706726\n",
      "Epoch count 74: Loss value: 0.2540713846683502\n",
      "Epoch count 75: Loss value: 0.2540713846683502\n",
      "Epoch count 76: Loss value: 0.2540713846683502\n",
      "Epoch count 77: Loss value: 0.25407135486602783\n",
      "Epoch count 78: Loss value: 0.2540713846683502\n",
      "Epoch count 79: Loss value: 0.25407135486602783\n",
      "Epoch count 80: Loss value: 0.25407135486602783\n",
      "Epoch count 81: Loss value: 0.25407135486602783\n",
      "Epoch count 82: Loss value: 0.25407132506370544\n",
      "Epoch count 83: Loss value: 0.25407135486602783\n",
      "Epoch count 84: Loss value: 0.2540713846683502\n",
      "Epoch count 85: Loss value: 0.25407135486602783\n",
      "Epoch count 86: Loss value: 0.25407132506370544\n",
      "Epoch count 87: Loss value: 0.25407135486602783\n",
      "Epoch count 88: Loss value: 0.25407135486602783\n",
      "Epoch count 89: Loss value: 0.2540713846683502\n",
      "Epoch count 90: Loss value: 0.25407129526138306\n",
      "Epoch count 91: Loss value: 0.25407135486602783\n",
      "Epoch count 92: Loss value: 0.25407132506370544\n",
      "Epoch count 93: Loss value: 0.25407132506370544\n",
      "Epoch count 94: Loss value: 0.25407132506370544\n",
      "Epoch count 95: Loss value: 0.25407132506370544\n",
      "Epoch count 96: Loss value: 0.25407132506370544\n",
      "Epoch count 97: Loss value: 0.2540713846683502\n",
      "Epoch count 98: Loss value: 0.25407132506370544\n",
      "Epoch count 99: Loss value: 0.25407132506370544\n"
     ]
    }
   ],
   "source": [
    "for e_count in range(epochs):\n",
    "    weights.append(linear_model.weight.numpy())\n",
    "    biases.append(linear_model.bias.numpy())\n",
    "    \n",
    "    real_loss = loss(y, linear_model(x))\n",
    "    train(linear_model, x, y, lr=lr)\n",
    "    print(f\"Epoch count {e_count}: Loss value: {real_loss.numpy()}\")"
   ]
  },
  {
   "cell_type": "code",
   "execution_count": 10,
   "metadata": {},
   "outputs": [
    {
     "data": {
      "image/png": "[encoded data removed]",
      "text/plain": [
       "<Figure size 720x576 with 1 Axes>"
      ]
     },
     "metadata": {
      "needs_background": "light"
     },
     "output_type": "display_data"
    }
   ],
   "source": [
    "plt.figure(figsize=(10, 8))\n",
    "\n",
    "plt.plot(range(epochs), weights, 'r', range(epochs), biases, 'b')\n",
    "plt.plot([W_true] * epochs, 'r--', [b_true] * epochs, 'b--')\n",
    "\n",
    "plt.legend(['W', 'b', 'true W', 'true b'])\n",
    "plt.show()"
   ]
  },
  {
   "cell_type": "code",
   "execution_count": 11,
   "metadata": {},
   "outputs": [
    {
     "data": {
      "text/plain": [
       "(1.9564774, 0.55971795)"
      ]
     },
     "execution_count": 11,
     "metadata": {},
     "output_type": "execute_result"
    }
   ],
   "source": [
    "linear_model.weight.numpy(), linear_model.bias.numpy()"
   ]
  },
  {
   "cell_type": "code",
   "execution_count": 12,
   "metadata": {},
   "outputs": [
    {
     "data": {
      "text/plain": [
       "0.25407133"
      ]
     },
     "execution_count": 12,
     "metadata": {},
     "output_type": "execute_result"
    }
   ],
   "source": [
    "rmse = loss(y, linear_model(x))\n",
    "rmse.numpy()"
   ]
  },
  {
   "cell_type": "code",
   "execution_count": 13,
   "metadata": {},
   "outputs": [
    {
     "data": {
      "image/png": "[encoded data removed]",
      "text/plain": [
       "<Figure size 720x576 with 1 Axes>"
      ]
     },
     "metadata": {
      "needs_background": "light"
     },
     "output_type": "display_data"
    }
   ],
   "source": [
    "plt.figure(figsize=(10, 8))\n",
    "\n",
    "plt.plot(x, y, 'ro', label =\"Original data\")\n",
    "plt.plot(x, linear_model(x), label=\"Fitted line\")\n",
    "\n",
    "plt.title('Linear Regression')\n",
    "plt.legend()\n",
    "plt.show()"
   ]
  },
  {
   "cell_type": "code",
   "execution_count": 14,
   "metadata": {},
   "outputs": [],
   "source": [
    "from tensorflow import keras\n",
    "from tensorflow.keras import layers"
   ]
  },
  {
   "cell_type": "code",
   "execution_count": 15,
   "metadata": {},
   "outputs": [
    {
     "data": {
      "text/plain": [
       "((130,), (130,))"
      ]
     },
     "execution_count": 15,
     "metadata": {},
     "output_type": "execute_result"
    }
   ],
   "source": [
    "x.shape, y.shape"
   ]
  },
  {
   "cell_type": "code",
   "execution_count": 17,
   "metadata": {},
   "outputs": [
    {
     "data": {
      "text/html": [
       "<div>\n",
       "<style scoped>\n",
       "    .dataframe tbody tr th:only-of-type {\n",
       "        vertical-align: middle;\n",
       "    }\n",
       "\n",
       "    .dataframe tbody tr th {\n",
       "        vertical-align: top;\n",
       "    }\n",
       "\n",
       "    .dataframe thead th {\n",
       "        text-align: right;\n",
       "    }\n",
       "</style>\n",
       "<table border=\"1\" class=\"dataframe\">\n",
       "  <thead>\n",
       "    <tr style=\"text-align: right;\">\n",
       "      <th></th>\n",
       "      <th>x</th>\n",
       "    </tr>\n",
       "  </thead>\n",
       "  <tbody>\n",
       "    <tr>\n",
       "      <th>0</th>\n",
       "      <td>0.000000</td>\n",
       "    </tr>\n",
       "    <tr>\n",
       "      <th>1</th>\n",
       "      <td>0.023256</td>\n",
       "    </tr>\n",
       "    <tr>\n",
       "      <th>2</th>\n",
       "      <td>0.046512</td>\n",
       "    </tr>\n",
       "    <tr>\n",
       "      <th>3</th>\n",
       "      <td>0.069767</td>\n",
       "    </tr>\n",
       "    <tr>\n",
       "      <th>4</th>\n",
       "      <td>0.093023</td>\n",
       "    </tr>\n",
       "  </tbody>\n",
       "</table>\n",
       "</div>"
      ],
      "text/plain": [
       "          x\n",
       "0  0.000000\n",
       "1  0.023256\n",
       "2  0.046512\n",
       "3  0.069767\n",
       "4  0.093023"
      ]
     },
     "execution_count": 17,
     "metadata": {},
     "output_type": "execute_result"
    }
   ],
   "source": [
    "x = pd.DataFrame(x, columns = ['x'])\n",
    "y = pd.DataFrame(y, columns = ['y'])\n",
    "\n",
    "x.head()"
   ]
  },
  {
   "cell_type": "code",
   "execution_count": 19,
   "metadata": {},
   "outputs": [],
   "source": [
    "model = keras.Sequential([layers.Dense(1, \n",
    "                                       input_shape = (1,), \n",
    "                                       activation='linear')])\n",
    "optimizer = tf.keras.optimizers.SGD(learning_rate = 0.001)\n",
    "model.compile(loss = 'mse', metrics = ['mse'], optimizer = optimizer )"
   ]
  },
  {
   "cell_type": "code",
   "execution_count": 21,
   "metadata": {},
   "outputs": [
    {
     "name": "stdout",
     "output_type": "stream",
     "text": [
      "Epoch 1/100\n",
      "5/5 [==============================] - 0s 1ms/step - loss: 15.5189 - mse: 15.5189\n",
      "Epoch 2/100\n",
      "5/5 [==============================] - 0s 642us/step - loss: 14.4706 - mse: 14.4706\n",
      "Epoch 3/100\n",
      "5/5 [==============================] - 0s 844us/step - loss: 13.3184 - mse: 13.3184\n",
      "Epoch 4/100\n",
      "5/5 [==============================] - 0s 664us/step - loss: 12.4599 - mse: 12.4599\n",
      "Epoch 5/100\n",
      "5/5 [==============================] - 0s 632us/step - loss: 11.5766 - mse: 11.5766\n",
      "Epoch 6/100\n",
      "5/5 [==============================] - 0s 723us/step - loss: 10.7874 - mse: 10.7874\n",
      "Epoch 7/100\n",
      "5/5 [==============================] - 0s 745us/step - loss: 10.0487 - mse: 10.0487\n",
      "Epoch 8/100\n",
      "5/5 [==============================] - 0s 1ms/step - loss: 9.3964 - mse: 9.3964\n",
      "Epoch 9/100\n",
      "5/5 [==============================] - 0s 718us/step - loss: 8.7726 - mse: 8.7726\n",
      "Epoch 10/100\n",
      "5/5 [==============================] - 0s 994us/step - loss: 8.1187 - mse: 8.1187\n",
      "Epoch 11/100\n",
      "5/5 [==============================] - 0s 718us/step - loss: 7.5613 - mse: 7.5613\n",
      "Epoch 12/100\n",
      "5/5 [==============================] - 0s 669us/step - loss: 7.1073 - mse: 7.1073\n",
      "Epoch 13/100\n",
      "5/5 [==============================] - 0s 675us/step - loss: 6.5510 - mse: 6.5510\n",
      "Epoch 14/100\n",
      "5/5 [==============================] - 0s 1ms/step - loss: 6.0968 - mse: 6.0968\n",
      "Epoch 15/100\n",
      "5/5 [==============================] - 0s 763us/step - loss: 5.6807 - mse: 5.6807\n",
      "Epoch 16/100\n",
      "5/5 [==============================] - 0s 688us/step - loss: 5.3305 - mse: 5.3305\n",
      "Epoch 17/100\n",
      "5/5 [==============================] - 0s 810us/step - loss: 5.0152 - mse: 5.0152\n",
      "Epoch 18/100\n",
      "5/5 [==============================] - 0s 773us/step - loss: 4.6199 - mse: 4.6199\n",
      "Epoch 19/100\n",
      "5/5 [==============================] - 0s 1ms/step - loss: 4.3442 - mse: 4.3442\n",
      "Epoch 20/100\n",
      "5/5 [==============================] - 0s 766us/step - loss: 4.0401 - mse: 4.0401\n",
      "Epoch 21/100\n",
      "5/5 [==============================] - 0s 1ms/step - loss: 3.7496 - mse: 3.7496\n",
      "Epoch 22/100\n",
      "5/5 [==============================] - 0s 1ms/step - loss: 3.4904 - mse: 3.4904\n",
      "Epoch 23/100\n",
      "5/5 [==============================] - 0s 818us/step - loss: 3.2586 - mse: 3.2586\n",
      "Epoch 24/100\n",
      "5/5 [==============================] - 0s 637us/step - loss: 3.0716 - mse: 3.0716\n",
      "Epoch 25/100\n",
      "5/5 [==============================] - 0s 1ms/step - loss: 2.8481 - mse: 2.8481\n",
      "Epoch 26/100\n",
      "5/5 [==============================] - 0s 668us/step - loss: 2.6523 - mse: 2.6523\n",
      "Epoch 27/100\n",
      "5/5 [==============================] - 0s 1ms/step - loss: 2.5020 - mse: 2.5020\n",
      "Epoch 28/100\n",
      "5/5 [==============================] - 0s 775us/step - loss: 2.3386 - mse: 2.3386\n",
      "Epoch 29/100\n",
      "5/5 [==============================] - 0s 676us/step - loss: 2.1952 - mse: 2.1952\n",
      "Epoch 30/100\n",
      "5/5 [==============================] - 0s 1ms/step - loss: 2.0714 - mse: 2.0714\n",
      "Epoch 31/100\n",
      "5/5 [==============================] - 0s 723us/step - loss: 1.9128 - mse: 1.9128\n",
      "Epoch 32/100\n",
      "5/5 [==============================] - 0s 839us/step - loss: 1.8100 - mse: 1.8100\n",
      "Epoch 33/100\n",
      "5/5 [==============================] - 0s 737us/step - loss: 1.6913 - mse: 1.6913\n",
      "Epoch 34/100\n",
      "5/5 [==============================] - 0s 1ms/step - loss: 1.5928 - mse: 1.5928\n",
      "Epoch 35/100\n",
      "5/5 [==============================] - 0s 803us/step - loss: 1.4900 - mse: 1.4900\n",
      "Epoch 36/100\n",
      "5/5 [==============================] - 0s 937us/step - loss: 1.4111 - mse: 1.4111\n",
      "Epoch 37/100\n",
      "5/5 [==============================] - 0s 862us/step - loss: 1.3290 - mse: 1.3290\n",
      "Epoch 38/100\n",
      "5/5 [==============================] - 0s 806us/step - loss: 1.2380 - mse: 1.2380\n",
      "Epoch 39/100\n",
      "5/5 [==============================] - 0s 956us/step - loss: 1.1557 - mse: 1.1557\n",
      "Epoch 40/100\n",
      "5/5 [==============================] - 0s 700us/step - loss: 1.0981 - mse: 1.0981\n",
      "Epoch 41/100\n",
      "5/5 [==============================] - 0s 652us/step - loss: 1.0382 - mse: 1.0382\n",
      "Epoch 42/100\n",
      "5/5 [==============================] - 0s 647us/step - loss: 0.9642 - mse: 0.9642\n",
      "Epoch 43/100\n",
      "5/5 [==============================] - 0s 1ms/step - loss: 0.8995 - mse: 0.8995\n",
      "Epoch 44/100\n",
      "5/5 [==============================] - 0s 665us/step - loss: 0.8513 - mse: 0.8513\n",
      "Epoch 45/100\n",
      "5/5 [==============================] - 0s 1ms/step - loss: 0.8124 - mse: 0.8124\n",
      "Epoch 46/100\n",
      "5/5 [==============================] - 0s 823us/step - loss: 0.7618 - mse: 0.7618\n",
      "Epoch 47/100\n",
      "5/5 [==============================] - 0s 707us/step - loss: 0.7261 - mse: 0.7261\n",
      "Epoch 48/100\n",
      "5/5 [==============================] - 0s 859us/step - loss: 0.6894 - mse: 0.6894\n",
      "Epoch 49/100\n",
      "5/5 [==============================] - 0s 758us/step - loss: 0.6600 - mse: 0.6600\n",
      "Epoch 50/100\n",
      "5/5 [==============================] - 0s 829us/step - loss: 0.6317 - mse: 0.6317\n",
      "Epoch 51/100\n",
      "5/5 [==============================] - 0s 1ms/step - loss: 0.6021 - mse: 0.6021\n",
      "Epoch 52/100\n",
      "5/5 [==============================] - 0s 708us/step - loss: 0.5817 - mse: 0.5817\n",
      "Epoch 53/100\n",
      "5/5 [==============================] - 0s 806us/step - loss: 0.5597 - mse: 0.5597\n",
      "Epoch 54/100\n",
      "5/5 [==============================] - 0s 734us/step - loss: 0.5341 - mse: 0.5341\n",
      "Epoch 55/100\n",
      "5/5 [==============================] - 0s 748us/step - loss: 0.5182 - mse: 0.5182\n",
      "Epoch 56/100\n",
      "5/5 [==============================] - 0s 1ms/step - loss: 0.4975 - mse: 0.4975\n",
      "Epoch 57/100\n",
      "5/5 [==============================] - 0s 987us/step - loss: 0.4859 - mse: 0.4859\n",
      "Epoch 58/100\n",
      "5/5 [==============================] - 0s 1ms/step - loss: 0.4768 - mse: 0.4768\n",
      "Epoch 59/100\n",
      "5/5 [==============================] - 0s 653us/step - loss: 0.4598 - mse: 0.4598\n",
      "Epoch 60/100\n",
      "5/5 [==============================] - 0s 1ms/step - loss: 0.4478 - mse: 0.4478\n",
      "Epoch 61/100\n",
      "5/5 [==============================] - 0s 709us/step - loss: 0.4365 - mse: 0.4365\n",
      "Epoch 62/100\n",
      "5/5 [==============================] - 0s 1ms/step - loss: 0.4272 - mse: 0.4272\n",
      "Epoch 63/100\n",
      "5/5 [==============================] - 0s 957us/step - loss: 0.4198 - mse: 0.4198\n",
      "Epoch 64/100\n",
      "5/5 [==============================] - 0s 1ms/step - loss: 0.4129 - mse: 0.4129\n",
      "Epoch 65/100\n",
      "5/5 [==============================] - 0s 726us/step - loss: 0.4042 - mse: 0.4042\n",
      "Epoch 66/100\n",
      "5/5 [==============================] - 0s 1ms/step - loss: 0.3931 - mse: 0.3931\n",
      "Epoch 67/100\n",
      "5/5 [==============================] - 0s 708us/step - loss: 0.3873 - mse: 0.3873\n",
      "Epoch 68/100\n",
      "5/5 [==============================] - 0s 1ms/step - loss: 0.3808 - mse: 0.3808\n",
      "Epoch 69/100\n",
      "5/5 [==============================] - 0s 726us/step - loss: 0.3715 - mse: 0.3715\n",
      "Epoch 70/100\n",
      "5/5 [==============================] - 0s 784us/step - loss: 0.3667 - mse: 0.3667\n",
      "Epoch 71/100\n",
      "5/5 [==============================] - 0s 834us/step - loss: 0.3616 - mse: 0.3616\n",
      "Epoch 72/100\n",
      "5/5 [==============================] - 0s 894us/step - loss: 0.3585 - mse: 0.3585\n",
      "Epoch 73/100\n",
      "5/5 [==============================] - 0s 665us/step - loss: 0.3544 - mse: 0.3544\n",
      "Epoch 74/100\n",
      "5/5 [==============================] - 0s 762us/step - loss: 0.3486 - mse: 0.3486\n",
      "Epoch 75/100\n",
      "5/5 [==============================] - 0s 1ms/step - loss: 0.3441 - mse: 0.3441\n",
      "Epoch 76/100\n",
      "5/5 [==============================] - 0s 1000us/step - loss: 0.3385 - mse: 0.3385\n",
      "Epoch 77/100\n",
      "5/5 [==============================] - 0s 1ms/step - loss: 0.3351 - mse: 0.3351\n",
      "Epoch 78/100\n",
      "5/5 [==============================] - 0s 721us/step - loss: 0.3304 - mse: 0.3304\n",
      "Epoch 79/100\n",
      "5/5 [==============================] - 0s 2ms/step - loss: 0.3272 - mse: 0.3272\n",
      "Epoch 80/100\n",
      "5/5 [==============================] - 0s 859us/step - loss: 0.3220 - mse: 0.3220\n",
      "Epoch 81/100\n",
      "5/5 [==============================] - 0s 952us/step - loss: 0.3201 - mse: 0.3201\n",
      "Epoch 82/100\n",
      "5/5 [==============================] - 0s 720us/step - loss: 0.3173 - mse: 0.3173\n",
      "Epoch 83/100\n",
      "5/5 [==============================] - 0s 1ms/step - loss: 0.3146 - mse: 0.3146\n",
      "Epoch 84/100\n",
      "5/5 [==============================] - 0s 867us/step - loss: 0.3135 - mse: 0.3135\n",
      "Epoch 85/100\n",
      "5/5 [==============================] - 0s 826us/step - loss: 0.3101 - mse: 0.3101\n",
      "Epoch 86/100\n",
      "5/5 [==============================] - 0s 898us/step - loss: 0.3076 - mse: 0.3076\n",
      "Epoch 87/100\n"
     ]
    },
    {
     "name": "stdout",
     "output_type": "stream",
     "text": [
      "5/5 [==============================] - 0s 1ms/step - loss: 0.3057 - mse: 0.3057\n",
      "Epoch 88/100\n",
      "5/5 [==============================] - 0s 661us/step - loss: 0.3033 - mse: 0.3033\n",
      "Epoch 89/100\n",
      "5/5 [==============================] - 0s 984us/step - loss: 0.3007 - mse: 0.3007\n",
      "Epoch 90/100\n",
      "5/5 [==============================] - 0s 711us/step - loss: 0.3006 - mse: 0.3006\n",
      "Epoch 91/100\n",
      "5/5 [==============================] - 0s 871us/step - loss: 0.2989 - mse: 0.2989\n",
      "Epoch 92/100\n",
      "5/5 [==============================] - 0s 1ms/step - loss: 0.2982 - mse: 0.2982\n",
      "Epoch 93/100\n",
      "5/5 [==============================] - 0s 790us/step - loss: 0.2952 - mse: 0.2952\n",
      "Epoch 94/100\n",
      "5/5 [==============================] - 0s 1ms/step - loss: 0.2946 - mse: 0.2946\n",
      "Epoch 95/100\n",
      "5/5 [==============================] - 0s 695us/step - loss: 0.2932 - mse: 0.2932\n",
      "Epoch 96/100\n",
      "5/5 [==============================] - 0s 698us/step - loss: 0.2930 - mse: 0.2930\n",
      "Epoch 97/100\n",
      "5/5 [==============================] - 0s 896us/step - loss: 0.2923 - mse: 0.2923\n",
      "Epoch 98/100\n",
      "5/5 [==============================] - 0s 742us/step - loss: 0.2919 - mse: 0.2919\n",
      "Epoch 99/100\n",
      "5/5 [==============================] - 0s 1ms/step - loss: 0.2898 - mse: 0.2898\n",
      "Epoch 100/100\n",
      "5/5 [==============================] - 0s 759us/step - loss: 0.2890 - mse: 0.2890\n"
     ]
    },
    {
     "data": {
      "text/plain": [
       "<tensorflow.python.keras.callbacks.History at 0x14562ebb0>"
      ]
     },
     "execution_count": 21,
     "metadata": {},
     "output_type": "execute_result"
    }
   ],
   "source": [
    "model.fit(x, y, epochs = 100)"
   ]
  },
  {
   "cell_type": "code",
   "execution_count": 22,
   "metadata": {},
   "outputs": [],
   "source": [
    "y_pred = model.predict(x)"
   ]
  },
  {
   "cell_type": "code",
   "execution_count": 24,
   "metadata": {},
   "outputs": [
    {
     "data": {
      "image/png": "[encoded data removed]",
      "text/plain": [
       "<Figure size 720x576 with 1 Axes>"
      ]
     },
     "metadata": {
      "needs_background": "light"
     },
     "output_type": "display_data"
    }
   ],
   "source": [
    "plt.figure(figsize=(10, 8))\n",
    "plt.scatter(x, y, c='blue', label = 'Original data')\n",
    "plt.plot(x, y_pred, color = 'r', label = 'Fitted line')\n",
    "plt.legend()\n",
    "plt.show()"
   ]
  },
  {
   "cell_type": "code",
   "execution_count": null,
   "metadata": {},
   "outputs": [],
   "source": []
  }
 ],
 "metadata": {
  "kernelspec": {
   "display_name": "Python 3",
   "language": "python",
   "name": "python3"
  },
  "language_info": {
   "codemirror_mode": {
    "name": "ipython",
    "version": 3
   },
   "file_extension": ".py",
   "mimetype": "text/x-python",
   "name": "python",
   "nbconvert_exporter": "python",
   "pygments_lexer": "ipython3",
   "version": "3.8.5"
  }
 },
 "nbformat": 4,
 "nbformat_minor": 4
}
